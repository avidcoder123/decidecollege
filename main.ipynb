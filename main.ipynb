{
 "cells": [
  {
   "cell_type": "code",
   "execution_count": 22,
   "metadata": {},
   "outputs": [
    {
     "name": "stdout",
     "output_type": "stream",
     "text": [
      "Requirement already satisfied: pandas in /home/gitpod/.pyenv/versions/3.12.9/lib/python3.12/site-packages (2.2.3)\n",
      "Requirement already satisfied: scipy in /home/gitpod/.pyenv/versions/3.12.9/lib/python3.12/site-packages (1.15.2)\n",
      "Requirement already satisfied: numpy in /home/gitpod/.pyenv/versions/3.12.9/lib/python3.12/site-packages (2.2.5)\n",
      "Requirement already satisfied: python-dateutil>=2.8.2 in /home/gitpod/.pyenv/versions/3.12.9/lib/python3.12/site-packages (from pandas) (2.9.0.post0)\n",
      "Requirement already satisfied: pytz>=2020.1 in /home/gitpod/.pyenv/versions/3.12.9/lib/python3.12/site-packages (from pandas) (2025.2)\n",
      "Requirement already satisfied: tzdata>=2022.7 in /home/gitpod/.pyenv/versions/3.12.9/lib/python3.12/site-packages (from pandas) (2025.2)\n",
      "Requirement already satisfied: six>=1.5 in /home/gitpod/.pyenv/versions/3.12.9/lib/python3.12/site-packages (from python-dateutil>=2.8.2->pandas) (1.17.0)\n",
      "Note: you may need to restart the kernel to use updated packages.\n"
     ]
    }
   ],
   "source": [
    "%pip install pandas scipy numpy"
   ]
  },
  {
   "cell_type": "code",
   "execution_count": 24,
   "metadata": {},
   "outputs": [],
   "source": [
    "import pandas as pd\n",
    "import scipy.stats as stats\n",
    "import numpy as np"
   ]
  },
  {
   "cell_type": "code",
   "execution_count": 14,
   "metadata": {},
   "outputs": [],
   "source": [
    "top_cs_schools = [\n",
    "    \"Massachusetts Institute of Technology\",\n",
    "    \"University of California, Berkeley\",\n",
    "    \"Stanford University\",\n",
    "    \"Carnegie Mellon University\",\n",
    "    \"Princeton University\"\n",
    "]"
   ]
  },
  {
   "cell_type": "code",
   "execution_count": 26,
   "metadata": {},
   "outputs": [],
   "source": [
    "#z-score for 95% confidence interval\n",
    "z_95 = stats.norm.ppf(1-0.05/2)"
   ]
  },
  {
   "cell_type": "code",
   "execution_count": 75,
   "metadata": {},
   "outputs": [],
   "source": [
    "def count_top_schools(counts):\n",
    "    sum = 0\n",
    "    for school in top_cs_schools:\n",
    "        sum += counts.get(school, default=0)\n",
    "\n",
    "    return sum"
   ]
  },
  {
   "cell_type": "code",
   "execution_count": 74,
   "metadata": {},
   "outputs": [],
   "source": [
    "def confidence_interval(data, level):\n",
    "    counts = data[level].value_counts()\n",
    "\n",
    "    top_schools_count = count_top_schools(counts)\n",
    "    n = counts.sum()\n",
    "    p_hat = top_schools_count/n\n",
    "    se = np.sqrt(p_hat * (1-p_hat)/n)\n",
    "\n",
    "    me = z_95 * se\n",
    "\n",
    "    return (p_hat-me, p_hat+me)"
   ]
  },
  {
   "cell_type": "code",
   "execution_count": 36,
   "metadata": {},
   "outputs": [],
   "source": [
    "caltech_doctoral = pd.read_csv(\"caltech_grad.csv\")"
   ]
  },
  {
   "cell_type": "code",
   "execution_count": 76,
   "metadata": {},
   "outputs": [
    {
     "name": "stdout",
     "output_type": "stream",
     "text": [
      "Caltech sends 60.7% to 88.1% to top CS doctorate programs (95% confidence)\n",
      "Caltech sends 7.8% to 33.2% to be professors at top CS schools (95% confidence)\n"
     ]
    }
   ],
   "source": [
    "low, high = confidence_interval(caltech_doctoral, \"doctorate\")\n",
    "print(f\"Caltech sends {low*100:.1f}% to {high*100:.1f}% to top CS doctorate programs (95% confidence)\")\n",
    "\n",
    "low, high = confidence_interval(caltech_doctoral, \"institution\")\n",
    "print(f\"Caltech sends {low*100:.1f}% to {high*100:.1f}% to be professors at top CS schools (95% confidence)\")"
   ]
  },
  {
   "cell_type": "code",
   "execution_count": 40,
   "metadata": {},
   "outputs": [],
   "source": [
    "ut_doctoral = pd.read_csv(\"ut_grad.csv\")"
   ]
  },
  {
   "cell_type": "code",
   "execution_count": 77,
   "metadata": {},
   "outputs": [
    {
     "name": "stdout",
     "output_type": "stream",
     "text": [
      "UT sends 1.2% to 26.3% to top CS doctorate programs (95% confidence)\n",
      "UT sends -0.7% to 21.4% to be professors at top CS schools (95% confidence)\n"
     ]
    }
   ],
   "source": [
    "low, high = confidence_interval(ut_doctoral, \"doctorate\")\n",
    "print(f\"UT sends {low*100:.1f}% to {high*100:.1f}% to top CS doctorate programs (95% confidence)\")\n",
    "\n",
    "low, high = confidence_interval(ut_doctoral, \"institution\")\n",
    "print(f\"UT sends {low*100:.1f}% to {high*100:.1f}% to be professors at top CS schools (95% confidence)\")"
   ]
  },
  {
   "cell_type": "code",
   "execution_count": 80,
   "metadata": {},
   "outputs": [],
   "source": [
    "def p_value(data_1, data_2, level):\n",
    "    counts = data_1[level].value_counts()\n",
    "\n",
    "    top_schools_count = count_top_schools(counts)\n",
    "    n1 = counts.sum()\n",
    "    p_hat1 = top_schools_count/n1\n",
    "\n",
    "    counts = data_2[level].value_counts()\n",
    "\n",
    "    top_schools_count = count_top_schools(counts)\n",
    "    n2 = counts.sum()\n",
    "    p_hat2 = top_schools_count/n2\n",
    "\n",
    "    se = np.sqrt(p_hat1*(1-p_hat1)/n1 + p_hat2*(1-p_hat2)/n2)\n",
    "    \n",
    "    z = (p_hat1 - p_hat2)/se\n",
    "\n",
    "    p = 1 - stats.norm.cdf(z)\n",
    "\n",
    "    return p"
   ]
  },
  {
   "cell_type": "code",
   "execution_count": 85,
   "metadata": {},
   "outputs": [
    {
     "name": "stdout",
     "output_type": "stream",
     "text": [
      "Caltech undergrads have a higher chance of going to top PhD programs compared to UT undergrads (p=8.398115536323303e-11).\n"
     ]
    }
   ],
   "source": [
    "p = p_value(caltech_doctoral, ut_doctoral, \"doctorate\")\n",
    "\n",
    "if p < 0.05:\n",
    "    print(f\"Caltech undergrads have a higher chance of going to top PhD programs compared to UT undergrads (p={p}).\")\n",
    "else:\n",
    "    print(f\"There is not a significant difference in PhD results (p={p}).\")"
   ]
  }
 ],
 "metadata": {
  "kernelspec": {
   "display_name": "Python 3",
   "language": "python",
   "name": "python3"
  },
  "language_info": {
   "codemirror_mode": {
    "name": "ipython",
    "version": 3
   },
   "file_extension": ".py",
   "mimetype": "text/x-python",
   "name": "python",
   "nbconvert_exporter": "python",
   "pygments_lexer": "ipython3",
   "version": "3.12.9"
  }
 },
 "nbformat": 4,
 "nbformat_minor": 2
}
