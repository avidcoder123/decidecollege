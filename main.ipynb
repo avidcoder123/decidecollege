{
 "cells": [
  {
   "cell_type": "code",
   "execution_count": 1,
   "metadata": {},
   "outputs": [
    {
     "name": "stdout",
     "output_type": "stream",
     "text": [
      "Collecting pandas\n",
      "  Downloading pandas-2.2.3-cp312-cp312-manylinux_2_17_x86_64.manylinux2014_x86_64.whl.metadata (89 kB)\n",
      "Collecting scipy\n",
      "  Downloading scipy-1.15.2-cp312-cp312-manylinux_2_17_x86_64.manylinux2014_x86_64.whl.metadata (61 kB)\n",
      "Collecting numpy\n",
      "  Downloading numpy-2.2.5-cp312-cp312-manylinux_2_17_x86_64.manylinux2014_x86_64.whl.metadata (62 kB)\n",
      "Requirement already satisfied: python-dateutil>=2.8.2 in /home/gitpod/.pyenv/versions/3.12.9/lib/python3.12/site-packages (from pandas) (2.9.0.post0)\n",
      "Collecting pytz>=2020.1 (from pandas)\n",
      "  Downloading pytz-2025.2-py2.py3-none-any.whl.metadata (22 kB)\n",
      "Collecting tzdata>=2022.7 (from pandas)\n",
      "  Downloading tzdata-2025.2-py2.py3-none-any.whl.metadata (1.4 kB)\n",
      "Requirement already satisfied: six>=1.5 in /home/gitpod/.pyenv/versions/3.12.9/lib/python3.12/site-packages (from python-dateutil>=2.8.2->pandas) (1.17.0)\n",
      "Downloading pandas-2.2.3-cp312-cp312-manylinux_2_17_x86_64.manylinux2014_x86_64.whl (12.7 MB)\n",
      "\u001b[2K   \u001b[90m━━━━━━━━━━━━━━━━━━━━━━━━━━━━━━━━━━━━━━━━\u001b[0m \u001b[32m12.7/12.7 MB\u001b[0m \u001b[31m152.0 MB/s\u001b[0m eta \u001b[36m0:00:00\u001b[0m\n",
      "\u001b[?25hDownloading scipy-1.15.2-cp312-cp312-manylinux_2_17_x86_64.manylinux2014_x86_64.whl (37.3 MB)\n",
      "\u001b[2K   \u001b[90m━━━━━━━━━━━━━━━━━━━━━━━━━━━━━━━━━━━━━━━━\u001b[0m \u001b[32m37.3/37.3 MB\u001b[0m \u001b[31m142.5 MB/s\u001b[0m eta \u001b[36m0:00:00\u001b[0m00:01\u001b[0m\n",
      "\u001b[?25hDownloading numpy-2.2.5-cp312-cp312-manylinux_2_17_x86_64.manylinux2014_x86_64.whl (16.1 MB)\n",
      "\u001b[2K   \u001b[90m━━━━━━━━━━━━━━━━━━━━━━━━━━━━━━━━━━━━━━━━\u001b[0m \u001b[32m16.1/16.1 MB\u001b[0m \u001b[31m210.9 MB/s\u001b[0m eta \u001b[36m0:00:00\u001b[0m\n",
      "\u001b[?25hDownloading pytz-2025.2-py2.py3-none-any.whl (509 kB)\n",
      "Downloading tzdata-2025.2-py2.py3-none-any.whl (347 kB)\n",
      "Installing collected packages: pytz, tzdata, numpy, scipy, pandas\n",
      "Successfully installed numpy-2.2.5 pandas-2.2.3 pytz-2025.2 scipy-1.15.2 tzdata-2025.2\n",
      "Note: you may need to restart the kernel to use updated packages.\n"
     ]
    }
   ],
   "source": [
    "%pip install pandas scipy numpy"
   ]
  },
  {
   "cell_type": "code",
   "execution_count": 2,
   "metadata": {},
   "outputs": [],
   "source": [
    "import pandas as pd\n",
    "import scipy.stats as stats\n",
    "import numpy as np"
   ]
  },
  {
   "cell_type": "code",
   "execution_count": 3,
   "metadata": {},
   "outputs": [],
   "source": [
    "top_cs_schools = [\n",
    "    \"Massachusetts Institute of Technology\",\n",
    "    \"University of California, Berkeley\",\n",
    "    \"Stanford University\",\n",
    "    \"Carnegie Mellon University\",\n",
    "    \"Princeton University\"\n",
    "]"
   ]
  },
  {
   "cell_type": "code",
   "execution_count": 4,
   "metadata": {},
   "outputs": [],
   "source": [
    "#z-score for 95% confidence interval\n",
    "z_95 = stats.norm.ppf(1-0.05/2)"
   ]
  },
  {
   "cell_type": "code",
   "execution_count": 5,
   "metadata": {},
   "outputs": [],
   "source": [
    "def count_top_schools(counts):\n",
    "    sum = 0\n",
    "    for school in top_cs_schools:\n",
    "        sum += counts.get(school, default=0)\n",
    "\n",
    "    return sum"
   ]
  },
  {
   "cell_type": "code",
   "execution_count": 6,
   "metadata": {},
   "outputs": [],
   "source": [
    "def confidence_interval(data, level):\n",
    "    counts = data[level].value_counts()\n",
    "\n",
    "    top_schools_count = count_top_schools(counts)\n",
    "    n = counts.sum()\n",
    "    p_hat = top_schools_count/n\n",
    "    se = np.sqrt(p_hat * (1-p_hat)/n)\n",
    "\n",
    "    me = z_95 * se\n",
    "\n",
    "    return (p_hat-me, p_hat+me)"
   ]
  },
  {
   "cell_type": "code",
   "execution_count": 7,
   "metadata": {},
   "outputs": [],
   "source": [
    "caltech_doctoral = pd.read_csv(\"caltech_grad.csv\")"
   ]
  },
  {
   "cell_type": "code",
   "execution_count": 8,
   "metadata": {},
   "outputs": [
    {
     "name": "stdout",
     "output_type": "stream",
     "text": [
      "Caltech sends 60.7% to 88.1% to top CS doctorate programs (95% confidence)\n",
      "Caltech sends 7.8% to 33.2% to be professors at top CS schools (95% confidence)\n"
     ]
    }
   ],
   "source": [
    "low, high = confidence_interval(caltech_doctoral, \"doctorate\")\n",
    "print(f\"Caltech sends {low*100:.1f}% to {high*100:.1f}% to top CS doctorate programs (95% confidence)\")\n",
    "\n",
    "low, high = confidence_interval(caltech_doctoral, \"institution\")\n",
    "print(f\"Caltech sends {low*100:.1f}% to {high*100:.1f}% to be professors at top CS schools (95% confidence)\")"
   ]
  },
  {
   "cell_type": "code",
   "execution_count": 9,
   "metadata": {},
   "outputs": [],
   "source": [
    "ut_doctoral = pd.read_csv(\"ut_grad.csv\")"
   ]
  },
  {
   "cell_type": "code",
   "execution_count": 10,
   "metadata": {},
   "outputs": [
    {
     "name": "stdout",
     "output_type": "stream",
     "text": [
      "UT sends 1.2% to 26.3% to top CS doctorate programs (95% confidence)\n",
      "UT sends -0.7% to 21.4% to be professors at top CS schools (95% confidence)\n"
     ]
    }
   ],
   "source": [
    "low, high = confidence_interval(ut_doctoral, \"doctorate\")\n",
    "print(f\"UT sends {low*100:.1f}% to {high*100:.1f}% to top CS doctorate programs (95% confidence)\")\n",
    "\n",
    "low, high = confidence_interval(ut_doctoral, \"institution\")\n",
    "print(f\"UT sends {low*100:.1f}% to {high*100:.1f}% to be professors at top CS schools (95% confidence)\")"
   ]
  },
  {
   "cell_type": "code",
   "execution_count": 11,
   "metadata": {},
   "outputs": [],
   "source": [
    "def diff_proportions(data_1, data_2, level):\n",
    "    counts = data_1[level].value_counts()\n",
    "\n",
    "    top_schools_count = count_top_schools(counts)\n",
    "    n1 = counts.sum()\n",
    "    p_hat1 = top_schools_count/n1\n",
    "\n",
    "    counts = data_2[level].value_counts()\n",
    "\n",
    "    top_schools_count = count_top_schools(counts)\n",
    "    n2 = counts.sum()\n",
    "    p_hat2 = top_schools_count/n2\n",
    "\n",
    "    se = np.sqrt(p_hat1*(1-p_hat1)/n1 + p_hat2*(1-p_hat2)/n2)\n",
    "    \n",
    "    z = (p_hat1 - p_hat2)/se\n",
    "\n",
    "    p = 1 - stats.norm.cdf(z)\n",
    "\n",
    "    diff_p_hat = p_hat1 - p_hat2\n",
    "    me = z_95 * se\n",
    "\n",
    "    return (p, diff_p_hat - me, diff_p_hat + me)"
   ]
  },
  {
   "cell_type": "code",
   "execution_count": 17,
   "metadata": {},
   "outputs": [
    {
     "name": "stdout",
     "output_type": "stream",
     "text": [
      "Caltech undergrads have a higher chance of going to top PhD programs compared to UT undergrads (p=8.398115536323303e-11).\n",
      "The difference in proportions is 42.0 to 79.1 pp (95% confidence).\n"
     ]
    }
   ],
   "source": [
    "p, low, high = diff_proportions(caltech_doctoral, ut_doctoral, \"doctorate\")\n",
    "\n",
    "if p < 0.05:\n",
    "    print(f\"Caltech undergrads have a higher chance of going to top PhD programs compared to UT undergrads (p={p}).\")\n",
    "    print(f\"The difference in proportions is {low * 100:.1f} to {high * 100:.1f} pp (95% confidence).\")\n",
    "else:\n",
    "    print(f\"There is not a significant difference in PhD results (p={p}).\")"
   ]
  },
  {
   "cell_type": "code",
   "execution_count": 18,
   "metadata": {},
   "outputs": [
    {
     "data": {
      "text/plain": [
       "np.float64(2.2281388519649385)"
      ]
     },
     "execution_count": 18,
     "metadata": {},
     "output_type": "execute_result"
    }
   ],
   "source": [
    "stats.t.ppf(1-0.05/2, 10)"
   ]
  }
 ],
 "metadata": {
  "kernelspec": {
   "display_name": "Python 3",
   "language": "python",
   "name": "python3"
  },
  "language_info": {
   "codemirror_mode": {
    "name": "ipython",
    "version": 3
   },
   "file_extension": ".py",
   "mimetype": "text/x-python",
   "name": "python",
   "nbconvert_exporter": "python",
   "pygments_lexer": "ipython3",
   "version": "3.12.9"
  }
 },
 "nbformat": 4,
 "nbformat_minor": 2
}
